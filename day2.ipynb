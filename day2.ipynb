{
 "cells": [
  {
   "cell_type": "code",
   "execution_count": 1,
   "metadata": {},
   "outputs": [
    {
     "name": "stdout",
     "output_type": "stream",
     "text": [
      "s s\n",
      "6 6\n"
     ]
    }
   ],
   "source": [
    "a = [2,4,6,3,6]\n",
    "b = ['s', 0 , \"python\", 5,6]\n",
    "#indexing\n",
    "print(b[0], b[-5])\n",
    "print(b[4], b[-1])"
   ]
  },
  {
   "cell_type": "code",
   "execution_count": 1,
   "metadata": {},
   "outputs": [
    {
     "name": "stdout",
     "output_type": "stream",
     "text": [
      "John Mary Bob Alice "
     ]
    }
   ],
   "source": [
    "names =['John', 'Mary', 'Bob', 'Alice']\n",
    "for n in names: \n",
    "    print(n, end=' ')"
   ]
  },
  {
   "cell_type": "code",
   "execution_count": 5,
   "metadata": {},
   "outputs": [
    {
     "name": "stdout",
     "output_type": "stream",
     "text": [
      "1 John\n",
      "2 Mary\n",
      "3 Bob\n",
      "4 Alice\n"
     ]
    }
   ],
   "source": [
    "\n",
    "for n in range(len(names)): \n",
    "    print(n+1, names[n])"
   ]
  },
  {
   "cell_type": "code",
   "execution_count": null,
   "metadata": {},
   "outputs": [],
   "source": [
    "students = ('phanh', 'minh','duong','quan', 'tung','trong','hung')\n",
    "grades = [5.8, 9.0, 5.8, 5.7, 8.6, 7.0, 5.9]\n",
    "#find max grades\n",
    "print  ('s with highest: ', students[grades.index(max(grades))])\n",
    "\n",
    "count = 0\n",
    "for i in range(len(students)):\n",
    "    if grades[i] >= 8.0:\n",
    "        print(f'{ students[i]:10s }: {grades[i]:2f}')\n",
    "        count+=1\n",
    "print('number: ',count)     \n",
    "\n",
    "#find max grades\n",
    "print  ('s with highest: ', students[grades.index(max(grades))])"
   ]
  },
  {
   "cell_type": "code",
   "execution_count": 14,
   "metadata": {},
   "outputs": [
    {
     "name": "stdout",
     "output_type": "stream",
     "text": [
      "pen: 430.5\n",
      "book: 283.8\n",
      "notebook: 311.5\n",
      "stapler: 164.5\n",
      "eraser: 612.0\n",
      "Total salr:  1802.3\n"
     ]
    }
   ],
   "source": [
    "products = ['pen', 'book', 'notebook', 'stapler', 'eraser']\n",
    "prices = [ 3.5 , 6.6 , 8.9 , 4.7, 9.0]\n",
    "solds = [123, 43, 35, 35, 68]\n",
    "\n",
    "#print each product with its sales( prices * solds)\n",
    "count = 0\n",
    "total_sale = 0\n",
    "for i in range(len(products)):\n",
    "    sale = prices[i] * solds[i]\n",
    "    print(f'{products[i]}: {sale}')\n",
    "    total_sale += sale\n",
    "print('Total sale: ', total_sale)    "
   ]
  },
  {
   "cell_type": "code",
   "execution_count": 17,
   "metadata": {},
   "outputs": [
    {
     "name": "stdout",
     "output_type": "stream",
     "text": [
      "Product with the highest sale: eraser: $ 612.00\n"
     ]
    }
   ],
   "source": [
    "max_sale = 0\n",
    "max_product = ''\n",
    "for i in range(len(products)):\n",
    "    sale = prices[i] * solds[i]\n",
    "    if sale > max_sale:\n",
    "        max_sale = sale\n",
    "        max_product = products[i]\n",
    "print(f'Product with the highest sale: {max_product}: $ {max_sale:.2f}' )    \n"
   ]
  },
  {
   "cell_type": "code",
   "execution_count": 28,
   "metadata": {},
   "outputs": [
    {
     "name": "stdout",
     "output_type": "stream",
     "text": [
      "[95, 82, 88, 26, 14, 40, 8, 11, 42, 60]\n",
      "[26, 14, 40]\n",
      "[8, 11, 42, 60]\n",
      "[8, 11, 42, 60]\n",
      "[95, 88, 14, 8, 42]\n",
      "[95, 88, 14, 8, 42]\n",
      "[82, 26, 40, 11, 60]\n",
      "[82, 26, 40, 11, 60]\n",
      "[60, 42, 11, 8, 40, 14, 26, 88, 82, 95]\n"
     ]
    }
   ],
   "source": [
    "import random as rd\n",
    "#Slicing: create a sub-list from a list\n",
    "numbers = rd.sample(range(1, 100), 10) #create 10 random numbers from 1 to 10\n",
    "print(numbers)\n",
    "print(numbers[3:6]) #from index 3 ->7\n",
    "print(numbers[6:])  #from index 6 -> end\n",
    "print(numbers[-4:])\n",
    "print(numbers[0:10:2])\n",
    "print(numbers[::2])\n",
    "print(numbers[1:10:2])\n",
    "print(numbers[1::2])\n",
    "\n",
    "#reverse a list\n",
    "print(numbers[::-1])\n"
   ]
  },
  {
   "cell_type": "code",
   "execution_count": 32,
   "metadata": {},
   "outputs": [
    {
     "name": "stdout",
     "output_type": "stream",
     "text": [
      "[8, 11, 14, 26, 40, 42, 60, 82, 88, 95, 100, 100, 100, 499, 499]\n",
      "[499, 499, 100, 100, 100, 95, 88, 82, 60, 42, 40, 26, 14, 11, 8]\n",
      "[499, 499, 100, 100, 100, 95, 88, 82, 60, 42, 40, 26, 14, 11, 8, 100]\n",
      "[499, 499, 100, 100, 100, 499, 95, 88, 82, 60, 42, 40, 26, 14, 11, 8, 100]\n",
      "[499, 499, 100, 100, 100, 499, 95, 88, 82, 60, 42, 40, 26, 11, 8, 100]\n"
     ]
    }
   ],
   "source": [
    "#list's method\n",
    "#sort(): sort a list (asc of desc)\n",
    "#append(): add an item to the end of a list\n",
    "#insert(): insert an item to a list at a specified  position\n",
    "#remove(): remove an item from a list based on its value\n",
    "\n",
    "numbers.sort() # sort in esc by default\n",
    "print(numbers)\n",
    "numbers.sort(reverse=True) # sort in desc by default\n",
    "print(numbers)\n",
    "numbers.append(100) # add 100 to the end\n",
    "print(numbers)\n",
    "numbers.insert(5,499) # insert 499 to the list at index 5\n",
    "print(numbers)\n",
    "numbers.remove(14) # remove 88 from a list\n",
    "print(numbers)"
   ]
  },
  {
   "cell_type": "code",
   "execution_count": 36,
   "metadata": {},
   "outputs": [
    {
     "name": "stdout",
     "output_type": "stream",
     "text": [
      "16\n"
     ]
    }
   ],
   "source": [
    "#function\n",
    "#len(): return the length of a list\n",
    "#min(): \n",
    "#max():\n",
    "#sum():\n",
    "\n",
    "numbers\n",
    "print(len(numbers))"
   ]
  },
  {
   "cell_type": "markdown",
   "metadata": {},
   "source": []
  },
  {
   "cell_type": "code",
   "execution_count": 40,
   "metadata": {},
   "outputs": [
    {
     "name": "stdout",
     "output_type": "stream",
     "text": [
      "(1, 2, 3, 4, 5) <class 'tuple'>\n"
     ]
    }
   ],
   "source": [
    "#Tuple:  a list items cannot a changed\n",
    "#declare a tuple\n",
    "\n",
    "a = (1,2,3,4,5)\n",
    "print(a, type(a))"
   ]
  },
  {
   "cell_type": "code",
   "execution_count": 41,
   "metadata": {},
   "outputs": [
    {
     "name": "stdout",
     "output_type": "stream",
     "text": [
      "(10, 2, 3, 4, 5)\n"
     ]
    }
   ],
   "source": [
    "a = (10,2,3,4,5)\n",
    "print(a)"
   ]
  },
  {
   "cell_type": "code",
   "execution_count": 57,
   "metadata": {},
   "outputs": [
    {
     "name": "stdout",
     "output_type": "stream",
     "text": [
      "[78, 45, 38, 1, 65, 55, 20, 26, 52, 8, 94, 99, 70, 13, 33, 86, 32, 21, 82, 37]\n",
      "[78, 45, 38, 1, 65, 55, 20, 26, 52, 8]\n",
      "[94, 99, 70, 13, 33, 86, 32, 21, 82, 37]\n",
      "[78, 45, 38, 1, 65, 55, 20, 26, 52, 8, 94, 99, 70, 13, 33, 86, 32, 21, 82, 37]\n",
      "[1, 65, 55, 20, 26, 52, 8, 94, 99, 70, 13, 33, 86, 32]\n",
      "[78, 45, 38, 21, 82, 37]\n"
     ]
    }
   ],
   "source": [
    "#Exercise\n",
    "#a/ Slice 1st half and 2nd of the list\n",
    "import random as rd\n",
    "number = rd.sample(range(1, 100), 20)\n",
    "m = len(number) //2\n",
    "first_half = number[:m]\n",
    "second_half = number[m:]\n",
    "print(number)\n",
    "print(first_half, second_half, sep='\\n')\n",
    "\n",
    "\n",
    "#b/ remove n elements at begin and at the end\n",
    "n = int(input('Enter n: '))\n",
    "middle = number[n:-n]\n",
    "print(number, middle, sep='\\n')\n",
    "\n",
    "#c/ \n",
    "the_rest = number[:n] + number[-n:]\n",
    "print(the_rest)\n",
    "\n",
    "\n",
    "\n"
   ]
  }
 ],
 "metadata": {
  "kernelspec": {
   "display_name": "Python 3.10.8 64-bit",
   "language": "python",
   "name": "python3"
  },
  "language_info": {
   "codemirror_mode": {
    "name": "ipython",
    "version": 3
   },
   "file_extension": ".py",
   "mimetype": "text/x-python",
   "name": "python",
   "nbconvert_exporter": "python",
   "pygments_lexer": "ipython3",
   "version": "3.10.8"
  },
  "orig_nbformat": 4,
  "vscode": {
   "interpreter": {
    "hash": "26de051ba29f2982a8de78e945f0abaf191376122a1563185a90213a26c5da77"
   }
  }
 },
 "nbformat": 4,
 "nbformat_minor": 2
}
