{
 "cells": [
  {
   "cell_type": "code",
   "execution_count": 1,
   "metadata": {},
   "outputs": [],
   "source": [
    "#dictionary: collections of pairs (key, value)\n",
    "rooms = {'Peter': 201,'Mike': 202, 'John': 203,'Anna': 204}"
   ]
  },
  {
   "cell_type": "code",
   "execution_count": 8,
   "metadata": {},
   "outputs": [
    {
     "name": "stdout",
     "output_type": "stream",
     "text": [
      "Peter is in room 201\n",
      "Mike is in room 202\n",
      "John is in room 203\n",
      "Anna is in room 204\n",
      "--------------------\n",
      "Peter is in room 201\n",
      "Mike is in room 202\n",
      "John is in room 203\n",
      "Anna is in room 204\n"
     ]
    }
   ],
   "source": [
    "#use for loop to print out the guest & room number:\n",
    "for guest in rooms:\n",
    "    print(f'{guest} is in room {rooms[guest]}')\n",
    "print ('-' * 20)\n",
    "for guest, rooom_no in rooms.items():\n",
    "    print(f'{guest} is in room {rooom_no}')\n"
   ]
  },
  {
   "cell_type": "code",
   "execution_count": null,
   "metadata": {},
   "outputs": [],
   "source": [
    "#A new guest arrive to check-in\n",
    "name=  input('Please enter your name: ')\n",
    "rooom_no = input('Please enter room number: ')\n",
    "#add the new guest to the dictionary\n",
    "if name in roooms:\n",
    "    print(f'Guest {name} is in the hotel')\n",
    "else:    \n",
    "    rooms[name] = rooom_no\n",
    "    print(rooms) "
   ]
  },
  {
   "cell_type": "code",
   "execution_count": null,
   "metadata": {},
   "outputs": [],
   "source": [
    "#Guest want to change room\n",
    "name=  input('Please enter your name: ')\n",
    "if name not in rooms:\n",
    "    print(f'Guest {name} is not in the hotle')\n",
    "else:\n",
    "    print('Current room: ', rooms[name])\n",
    "    rooom_no = input('Please enter new room number: ')  \n",
    "    rooms[name] = rooom_no\n",
    "    print(rooms)     "
   ]
  },
  {
   "cell_type": "code",
   "execution_count": null,
   "metadata": {},
   "outputs": [],
   "source": [
    "# A guest want to checkout\n",
    "name=  input('Please enter your name: ')\n",
    "if name not in rooms:\n",
    "    print(f'Guest {name} is not in the hotel')\n",
    "else:\n",
    "    rooom_no = rooms.pop(name)\n",
    "    print(f'Guest {name} has checkout from rom {rooom_no}')\n",
    "    print(rooms)\n"
   ]
  },
  {
   "cell_type": "code",
   "execution_count": 15,
   "metadata": {},
   "outputs": [],
   "source": [
    "students = {'GCH101':('John', 75), 'GCH105':('Paul', 95),\n",
    "            'GCH102':('Mike', 76), 'GCH106':('Ringo',65),\n",
    "            'GCH103':('Anna', 78), 'GCH107':('Lemon', 80),\n",
    "            'GCH104':('Peter', 73), 'GCH108':('Nick', 69)}\n",
    "id = input('Please enter student id: ')\n",
    "if id in students:\n",
    "    print(f'ID: {id}, name : {students[id][0]}, Grade: {students[id][1]}')            "
   ]
  },
  {
   "cell_type": "code",
   "execution_count": 3,
   "metadata": {},
   "outputs": [
    {
     "name": "stdout",
     "output_type": "stream",
     "text": [
      " ID: GCH390 not exist\n"
     ]
    }
   ],
   "source": [
    "#Error student by enter ID, name (grade = 0)\n",
    "id = input('Enter the student_id: ')\n",
    "if id not in rooms:\n",
    "    print(f' ID: {id} not exist')  \n",
    "else:\n",
    "    name = input('Enter name: ')\n",
    "    students[id] = [name, 0]\n",
    "    print(students)    \n",
    "\n",
    "\n",
    "\n"
   ]
  },
  {
   "cell_type": "code",
   "execution_count": 6,
   "metadata": {},
   "outputs": [
    {
     "name": "stdout",
     "output_type": "stream",
     "text": [
      "Current student:  35\n",
      "{'GCH101': ['5', 1], 'GCH105': ('Paul', 95), 'GCH102': ('Mike', 76), 'GCH106': ('Ringo', 65), 'GCH103': ('Anna', 78), 'GCH107': ('Lemon', 80), 'GCH104': ('Peter', 73), 'GCH108': ('Nick', 69)}\n"
     ]
    }
   ],
   "source": [
    "#Update student grade by enter ID, grade\n",
    "id = input('Enter student id: ')\n",
    "if id not in students:\n",
    "    print(f' ID: {id} not exist')  \n",
    "else:\n",
    "    grade = int(input('Please enter new grade: ')  )\n",
    "    students[id][1] = grade\n",
    "    print(students) \n",
    "    \n"
   ]
  },
  {
   "cell_type": "code",
   "execution_count": 19,
   "metadata": {},
   "outputs": [
    {
     "name": "stdout",
     "output_type": "stream",
     "text": [
      "Student John had been dropped out\n"
     ]
    }
   ],
   "source": [
    "\n",
    "#Drop out student by enter ID\n",
    "id = input('Enter student id: ')\n",
    "if id not in students:\n",
    "    print(f' ID: {id} not exist')  \n",
    "else:    \n",
    "    students_grade = students.pop(id)\n",
    "    print(f'Student {students_grade[0]} had been dropped out')  \n"
   ]
  },
  {
   "cell_type": "code",
   "execution_count": 7,
   "metadata": {},
   "outputs": [
    {
     "name": "stdout",
     "output_type": "stream",
     "text": [
      "{'GCH101': ['5', 1], 'GCH105': ('Paul', 95), 'GCH102': ('Mike', 76), 'GCH106': ('Ringo', 65), 'GCH103': ('Anna', 78), 'GCH107': ('Lemon', 80), 'GCH104': ('Peter', 73), 'GCH108': ('Nick', 69), 'GCH201': ('Min', 7)}\n"
     ]
    }
   ],
   "source": [
    "#Enter some new items\n",
    "id = input('Enter student id: ')\n",
    "if id in students:\n",
    "    print(f'{id} existed in system')\n",
    "else:\n",
    "    name = input('Enter student name: ') \n",
    "    grade = int(input('Enter student grade: '))  \n",
    "    students[id] = name, grade   \n",
    "    print(students) \n",
    "    \n",
    "\n",
    "\n",
    "#Find student who has max GPA\n",
    "#Find student who has min GPA\n"
   ]
  },
  {
   "cell_type": "code",
   "execution_count": null,
   "metadata": {},
   "outputs": [],
   "source": [
    "#Print all items \n",
    "print(f'ID: {id}, name : {students[id][0]}, Grade: {students[id][1]}')  "
   ]
  },
  {
   "cell_type": "code",
   "execution_count": null,
   "metadata": {},
   "outputs": [],
   "source": [
    "studentsS = {'John': 75, 'Paul': 95, 'Mike': 76, 'Ringo':65,\n",
    "        'Anna': 78, 'Lemon': 80, 'Peter': 73, 'Nick': 69}"
   ]
  },
  {
   "cell_type": "code",
   "execution_count": null,
   "metadata": {},
   "outputs": [],
   "source": [
    "#Find student who has max GPA\n",
    "max_grade = 0\n",
    "for st , grade in studentsS.items():\n",
    "    if grade > max_grade:\n",
    "        max_grade = grade\n",
    "for st , grade in studentsS.items():\n",
    "        if grade == max_grade:\n",
    "            print(f'{st} has the highest grade: {grade}')\n",
    "    "
   ]
  },
  {
   "cell_type": "code",
   "execution_count": null,
   "metadata": {},
   "outputs": [],
   "source": [
    "max_grade = max([grade for st, name in studentsS.items()])\n",
    "best_student = [st for st, name in studentsS.items() if grade == max_grade]\n",
    "print(best_student)"
   ]
  }
 ],
 "metadata": {
  "kernelspec": {
   "display_name": "Python 3.10.8 64-bit",
   "language": "python",
   "name": "python3"
  },
  "language_info": {
   "codemirror_mode": {
    "name": "ipython",
    "version": 3
   },
   "file_extension": ".py",
   "mimetype": "text/x-python",
   "name": "python",
   "nbconvert_exporter": "python",
   "pygments_lexer": "ipython3",
   "version": "3.10.8"
  },
  "orig_nbformat": 4,
  "vscode": {
   "interpreter": {
    "hash": "26de051ba29f2982a8de78e945f0abaf191376122a1563185a90213a26c5da77"
   }
  }
 },
 "nbformat": 4,
 "nbformat_minor": 2
}
