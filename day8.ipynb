{
 "cells": [
  {
   "cell_type": "code",
   "execution_count": 56,
   "metadata": {},
   "outputs": [],
   "source": [
    "#suppose we have a date \n",
    "employees = [['John Smith', '123456789', 100],\n",
    "            ['Alice', '123456789', 200],\n",
    "            ['Peter', '123456789', 500],\n",
    "            ['', '123456789', 3000],\n",
    "            ['Melody Pond', '46535hhg', 1000],\n",
    "            ['Annaaaaaaaaaaaaaaaaaaaaaaaaaaaaaaaaa', '1234567BFG', 1500]]"
   ]
  },
  {
   "cell_type": "code",
   "execution_count": 57,
   "metadata": {},
   "outputs": [],
   "source": [
    "def do_nothing(employees):\n",
    "    pass\n",
    "def clean_employees(employees, clean_name=do_nothing, clean_phone=do_nothing, clean_salary=do_nothing):\n",
    "    clean_name(employees)\n",
    "    clean_phone(employees)\n",
    "    clean_salary(employees)"
   ]
  },
  {
   "cell_type": "code",
   "execution_count": 58,
   "metadata": {},
   "outputs": [],
   "source": [
    "def print_employees(employees):\n",
    "    for row in employees:\n",
    "        print(f'{row[0]:< 25}: {row[1]: 10s}, ${row[2]:5}')\n"
   ]
  },
  {
   "cell_type": "code",
   "execution_count": 59,
   "metadata": {},
   "outputs": [
    {
     "name": "stdout",
     "output_type": "stream",
     "text": [
      "[['John Smith', '123456789', 100], ['Alice', '123456789', 200], ['Peter', '123456789', 500], ['Laydi Gaga', '123456789', 3000], ['Melody Pond', '46535hhg', 1000], ['Annaaaaaaaaaaaaaaaaaaaaaaaaaaaaaaaaa', '1234567BFG', 1500]]\n"
     ]
    }
   ],
   "source": [
    "def empty_2_default(employees):\n",
    "    for row in employees:        \n",
    "        if row[0] == '':\n",
    "            row[0] = 'Laydi Gaga'\n",
    "clean_employees(employees, clean_name=empty_2_default)\n",
    "print(employees)"
   ]
  },
  {
   "cell_type": "code",
   "execution_count": 60,
   "metadata": {},
   "outputs": [
    {
     "name": "stdout",
     "output_type": "stream",
     "text": [
      "[['John Smith', '123456789', 100], ['Alice', '123456789', 200], ['Peter', '123456789', 500], ['Laydi Gaga', '123456789', 3000], ['Melody Pond', '46535hhg', 1000], ['Annaaaaaaaaaaaaaaaaa', '1234567BFG', 1500]]\n"
     ]
    }
   ],
   "source": [
    "def truncate_longname(employees):\n",
    "    for row in employees:\n",
    "        if len(row[0]) > 20:\n",
    "            row[0] = row[0][:20]\n",
    "clean_employees(employees, clean_name=truncate_longname)\n",
    "print(employees)    \n"
   ]
  },
  {
   "cell_type": "code",
   "execution_count": 61,
   "metadata": {},
   "outputs": [
    {
     "name": "stdout",
     "output_type": "stream",
     "text": [
      "[['John Smith', '123456789', 100], ['Alice', '123456789', 200], ['Peter', '123456789', 500], ['Laydi Gaga', '123456789', 3000], ['Melody Pond', '46535000', 1000], ['Annaaaaaaaaaaaaaaaaa', '1234567000', 1500]]\n"
     ]
    }
   ],
   "source": [
    "def digit_2Zero(employees):\n",
    "    for row in employees:\n",
    "        row[1] =''.join(list(map(lambda x: x if x.isdigit() else '0', row[1])))\n",
    "            \n",
    "clean_employees(employees, clean_name=digit_2Zero)\n",
    "print(employees)            "
   ]
  },
  {
   "cell_type": "code",
   "execution_count": 62,
   "metadata": {},
   "outputs": [
    {
     "name": "stdout",
     "output_type": "stream",
     "text": [
      "[['John Smith', '123456789', 200], ['Alice', '123456789', 200], ['Peter', '123456789', 500], ['Laydi Gaga', '123456789', 2000], ['Melody Pond', '46535000', 1000], ['Annaaaaaaaaaaaaaaaaa', '1234567000', 1500]]\n"
     ]
    }
   ],
   "source": [
    "def fix_salary(employees):\n",
    "    for row in employees:\n",
    "        if row[2] < 200:\n",
    "            row[2] = 200\n",
    "        if row[2] > 2000:\n",
    "            row[2] = 2000 \n",
    "\n",
    "clean_employees(employees, clean_name=fix_salary)\n",
    "print(employees)                 "
   ]
  },
  {
   "cell_type": "code",
   "execution_count": 63,
   "metadata": {},
   "outputs": [
    {
     "ename": "UnboundLocalError",
     "evalue": "local variable 'i' referenced before assignment",
     "output_type": "error",
     "traceback": [
      "\u001b[1;31m---------------------------------------------------------------------------\u001b[0m",
      "\u001b[1;31mUnboundLocalError\u001b[0m                         Traceback (most recent call last)",
      "Cell \u001b[1;32mIn [63], line 10\u001b[0m\n\u001b[0;32m      7\u001b[0m             phone[i]\u001b[39m=\u001b[39mphone[i] \u001b[39mif\u001b[39;00m phone[i]\u001b[39m.\u001b[39misdigit() \u001b[39melse\u001b[39;00m phone[i\u001b[39m-\u001b[39m\u001b[39m1\u001b[39m]\n\u001b[0;32m      8\u001b[0m         row[\u001b[39m1\u001b[39m]\u001b[39m=\u001b[39m\u001b[39m'\u001b[39m\u001b[39m'\u001b[39m\u001b[39m.\u001b[39mjoin(phone)   \n\u001b[1;32m---> 10\u001b[0m clean_employees (employees, clean_phone\u001b[39m=\u001b[39;49mnundigit,\n\u001b[0;32m     11\u001b[0m                 clean_salary\u001b[39m=\u001b[39;49mfix_salary,\n\u001b[0;32m     12\u001b[0m                 clean_name\u001b[39m=\u001b[39;49m truncate_longname)\n\u001b[0;32m     13\u001b[0m clean_employees(employees, clean_name\u001b[39m=\u001b[39mempty_2_default) \n\u001b[0;32m     14\u001b[0m \u001b[39mprint\u001b[39m(employees)      \n",
      "Cell \u001b[1;32mIn [57], line 5\u001b[0m, in \u001b[0;36mclean_employees\u001b[1;34m(employees, clean_name, clean_phone, clean_salary)\u001b[0m\n\u001b[0;32m      3\u001b[0m \u001b[39mdef\u001b[39;00m \u001b[39mclean_employees\u001b[39m(employees, clean_name\u001b[39m=\u001b[39mdo_nothing, clean_phone\u001b[39m=\u001b[39mdo_nothing, clean_salary\u001b[39m=\u001b[39mdo_nothing):\n\u001b[0;32m      4\u001b[0m     clean_name(employees)\n\u001b[1;32m----> 5\u001b[0m     clean_phone(employees)\n\u001b[0;32m      6\u001b[0m     clean_salary(employees)\n",
      "Cell \u001b[1;32mIn [63], line 4\u001b[0m, in \u001b[0;36mnundigit\u001b[1;34m(employees)\u001b[0m\n\u001b[0;32m      2\u001b[0m \u001b[39mfor\u001b[39;00m row \u001b[39min\u001b[39;00m employees:\n\u001b[0;32m      3\u001b[0m     phone \u001b[39m=\u001b[39m [c \u001b[39mfor\u001b[39;00m c \u001b[39min\u001b[39;00m row[\u001b[39m1\u001b[39m]]\n\u001b[1;32m----> 4\u001b[0m     phone[\u001b[39m0\u001b[39m] \u001b[39m=\u001b[39m phone[\u001b[39m0\u001b[39m] \u001b[39mif\u001b[39;00m phone[i]\u001b[39m.\u001b[39misdigit() \u001b[39melse\u001b[39;00m \u001b[39m'\u001b[39m\u001b[39m0\u001b[39m\u001b[39m'\u001b[39m\n\u001b[0;32m      5\u001b[0m     row[\u001b[39m1\u001b[39m] \u001b[39m=\u001b[39m\u001b[39m'\u001b[39m\u001b[39m'\u001b[39m\u001b[39m.\u001b[39mjoin([phone[i] \u001b[39mif\u001b[39;00m phone[i]\u001b[39m.\u001b[39misdigit() \u001b[39melse\u001b[39;00m phone[i\u001b[39m-\u001b[39m\u001b[39m1\u001b[39m] \u001b[39mfor\u001b[39;00m i \u001b[39min\u001b[39;00m \u001b[39mrange\u001b[39m(\u001b[39m1\u001b[39m, \u001b[39mlen\u001b[39m(phone))])\n\u001b[0;32m      6\u001b[0m     \u001b[39mfor\u001b[39;00m i \u001b[39min\u001b[39;00m \u001b[39mrange\u001b[39m(\u001b[39m1\u001b[39m, \u001b[39mlen\u001b[39m(phone)):\n",
      "\u001b[1;31mUnboundLocalError\u001b[0m: local variable 'i' referenced before assignment"
     ]
    }
   ],
   "source": [
    "def nundigit(employees):\n",
    "    for row in employees:\n",
    "        phone = [c for c in row[1]]\n",
    "        phone[0] = phone[0] if phone[i].isdigit() else '0'\n",
    "        row[1] =''.join([phone[i] if phone[i].isdigit() else phone[i-1] for i in range(1, len(phone))])\n",
    "        for i in range(1, len(phone)):\n",
    "            phone[i]=phone[i] if phone[i].isdigit() else phone[i-1]\n",
    "        row[1]=''.join(phone)   \n",
    "\n",
    "clean_employees (employees, clean_phone=nundigit,\n",
    "                clean_salary=fix_salary,\n",
    "                clean_name= truncate_longname)\n",
    "clean_employees(employees, clean_name=empty_2_default) \n",
    "print(employees)      "
   ]
  },
  {
   "cell_type": "code",
   "execution_count": null,
   "metadata": {},
   "outputs": [],
   "source": [
    "my_list = [x for x in range(10)] #list comprehension\n",
    "my_generator = (x for x in range(10))  #generator"
   ]
  },
  {
   "cell_type": "code",
   "execution_count": null,
   "metadata": {},
   "outputs": [],
   "source": [
    "print(sum(my_list))\n",
    "print(sum(my_generator))"
   ]
  },
  {
   "cell_type": "code",
   "execution_count": null,
   "metadata": {},
   "outputs": [
    {
     "name": "stdout",
     "output_type": "stream",
     "text": [
      "[58, 44, 37, 26, 76, 52, 5, 62, 19, 54, 100, 18, 66, 17, 40, 91, 24, 46, 9, 81]\n"
     ]
    }
   ],
   "source": [
    "import random as rd\n",
    "numbers = [rd.randint(1, 100) for _ in range(20)]\n",
    "print(numbers)"
   ]
  },
  {
   "cell_type": "code",
   "execution_count": null,
   "metadata": {},
   "outputs": [],
   "source": []
  },
  {
   "cell_type": "code",
   "execution_count": 70,
   "metadata": {},
   "outputs": [],
   "source": [
    "even_list = [x for x in numbers if x % 2 ==0]\n",
    "\n",
    "even_generator =(x for x in numbers if x % 2 ==0 )\n",
    "\n"
   ]
  },
  {
   "cell_type": "code",
   "execution_count": 72,
   "metadata": {},
   "outputs": [
    {
     "name": "stdout",
     "output_type": "stream",
     "text": [
      "666\n",
      "0\n"
     ]
    }
   ],
   "source": [
    "print(sum(even_list))\n",
    "print(sum(even_generator))"
   ]
  },
  {
   "cell_type": "code",
   "execution_count": 64,
   "metadata": {},
   "outputs": [],
   "source": [
    "def my_filter(f, items):\n",
    "    for i in items:\n",
    "        if f(i):\n",
    "            yield i"
   ]
  },
  {
   "cell_type": "code",
   "execution_count": 65,
   "metadata": {},
   "outputs": [
    {
     "name": "stdout",
     "output_type": "stream",
     "text": [
      "666\n"
     ]
    }
   ],
   "source": [
    "sum_even = sum(my_filter(lambda x: x % 2 == 0, numbers))\n",
    "print(sum_even)"
   ]
  },
  {
   "cell_type": "code",
   "execution_count": null,
   "metadata": {},
   "outputs": [],
   "source": []
  },
  {
   "cell_type": "code",
   "execution_count": 81,
   "metadata": {},
   "outputs": [
    {
     "name": "stdout",
     "output_type": "stream",
     "text": [
      "Total: $ 665.5\n"
     ]
    }
   ],
   "source": [
    "pizza_solds = [['John', '10:00', 33],\n",
    "            ['Paul', '10:30', 23],\n",
    "            ['Mike', '10:50', 53],\n",
    "            ['Alice', '11:30', 12]]\n",
    "            \n",
    "prices = 5.5\n",
    "number_pizzas = (x[2] for x in pizza_solds)\n",
    "incomes = (n * prices for n in number_pizzas)    \n",
    "print('Total: $', sum(incomes))        "
   ]
  },
  {
   "cell_type": "code",
   "execution_count": 82,
   "metadata": {},
   "outputs": [],
   "source": [
    "def rec_fiboncannic(n):\n",
    "    if n < 2:\n",
    "        return n\n",
    "    return rec_fiboncannic(n-1) + rec_fiboncannic(n-2)    "
   ]
  },
  {
   "cell_type": "code",
   "execution_count": 84,
   "metadata": {},
   "outputs": [],
   "source": [
    "print(rec_fiboncannic(50))"
   ]
  },
  {
   "cell_type": "code",
   "execution_count": 1,
   "metadata": {},
   "outputs": [],
   "source": [
    "def fibo_gen():\n",
    "    a, b = 0, 1\n",
    "    while True:\n",
    "        yield a\n",
    "        a, b = b, a + b"
   ]
  },
  {
   "cell_type": "code",
   "execution_count": 2,
   "metadata": {},
   "outputs": [],
   "source": [
    "def fibonacci(n):\n",
    "    i = 0\n",
    "    for f in fibo_gen():\n",
    "        if i == n:\n",
    "            return f\n",
    "        i +=1    "
   ]
  },
  {
   "cell_type": "code",
   "execution_count": 3,
   "metadata": {},
   "outputs": [
    {
     "name": "stdout",
     "output_type": "stream",
     "text": [
      "0 "
     ]
    }
   ],
   "source": [
    "for i in range(100):\n",
    "    print(fibonacci(i), end=' ')\n",
    "    if (i+1) %10 ==0:\n",
    "        print ()"
   ]
  },
  {
   "cell_type": "code",
   "execution_count": null,
   "metadata": {},
   "outputs": [],
   "source": []
  }
 ],
 "metadata": {
  "kernelspec": {
   "display_name": "Python 3.10.8 64-bit",
   "language": "python",
   "name": "python3"
  },
  "language_info": {
   "codemirror_mode": {
    "name": "ipython",
    "version": 3
   },
   "file_extension": ".py",
   "mimetype": "text/x-python",
   "name": "python",
   "nbconvert_exporter": "python",
   "pygments_lexer": "ipython3",
   "version": "3.10.8"
  },
  "orig_nbformat": 4,
  "vscode": {
   "interpreter": {
    "hash": "26de051ba29f2982a8de78e945f0abaf191376122a1563185a90213a26c5da77"
   }
  }
 },
 "nbformat": 4,
 "nbformat_minor": 2
}
