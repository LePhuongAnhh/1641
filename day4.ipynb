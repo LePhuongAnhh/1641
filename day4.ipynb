{
 "cells": [
  {
   "cell_type": "code",
   "execution_count": 14,
   "metadata": {},
   "outputs": [],
   "source": [
    "# Give shool years & corresponding number of students\n",
    "school_years = [2010, 2011, 2012, 2013, 2014, 2015, 2016, 2017, 2018, 2019]\n",
    "total_students = [3115, 3420, 3287, 2998, 3514, 3184, 3337, 3409, 3240, 3451]"
   ]
  },
  {
   "cell_type": "code",
   "execution_count": 15,
   "metadata": {},
   "outputs": [
    {
     "name": "stdout",
     "output_type": "stream",
     "text": [
      "The sum of total number of students in odd years:  16462\n",
      "The sum of total number of students in even years:  16493\n"
     ]
    }
   ],
   "source": [
    "# Ex1.1: Calculate the sum of total number of students in odd years\n",
    "# Ex1.2: Calculate the sum of total number of students in even years\n",
    "print('The sum of total number of students in odd years: ',sum(total_students[1::2]))\n",
    "print('The sum of total number of students in even years: ',sum(total_students[::2]))"
   ]
  },
  {
   "cell_type": "code",
   "execution_count": 21,
   "metadata": {},
   "outputs": [
    {
     "name": "stdout",
     "output_type": "stream",
     "text": [
      "The year when there are the most students enrolled: 2014\n",
      "The year when there are the least students enrolled: 2013\n"
     ]
    }
   ],
   "source": [
    "# Ex2.1: Find the year when there are the most students enrolled\n",
    "# Ex2.2: Find the year when there are the least students enrolled\n",
    "max_enrolled = max(total_students)\n",
    "max_index = total_students.index(max_enrolled)\n",
    "print('The year when there are the most students enrolled:', school_years[max_index])\n",
    "\n",
    "print('The year when there are the least students enrolled:', school_years[total_students.index(min(total_students))])\n"
   ]
  },
  {
   "cell_type": "code",
   "execution_count": 38,
   "metadata": {},
   "outputs": [
    {
     "name": "stdout",
     "output_type": "stream",
     "text": [
      "[2011, 2014, 2016, 2017, 2019]\n"
     ]
    }
   ],
   "source": [
    "# Ex3: Calculate the average number of students and find years \n",
    "# when the number of students is above the average\n",
    "average_student =sum(total_students) / len(total_students)\n",
    "#c1\n",
    "#good_enrolled = [n for n in total_students if n > average_student]\n",
    "#good_years = [y for y in school_years if total_students[school_years.index(y)in good_enrolled]]\n",
    "\n",
    "\n",
    "#c2\n",
    "n = len(total_students)\n",
    "good_years = [ school_years[i] for i in range(n) if total_students[i] > average_student]\n",
    "print(good_years)\n",
    "\n",
    "\n"
   ]
  },
  {
   "cell_type": "code",
   "execution_count": 22,
   "metadata": {},
   "outputs": [
    {
     "name": "stdout",
     "output_type": "stream",
     "text": [
      "No data\n"
     ]
    }
   ],
   "source": [
    "# Ex4: User enters a year, find the number of students in that year\n",
    "# If the year is not in the list, print \"No data\"\n",
    "\n",
    "y = int(input('enter year: '))\n",
    "if y not in total_students:\n",
    "    print('No data')\n",
    "else:\n",
    "    print('Number of student in', y, 'is', total_students[school_years.index(y)])    "
   ]
  },
  {
   "cell_type": "code",
   "execution_count": 43,
   "metadata": {},
   "outputs": [
    {
     "name": "stdout",
     "output_type": "stream",
     "text": [
      "The number of students increases 5\n",
      "The number of students increases 4\n"
     ]
    }
   ],
   "source": [
    "# Ex5: Count how many times the number of students increases from one year to the next\n",
    "# and how many times it decreases. \n",
    "# For example, from 2010 to 2011, the number of students increases\n",
    "# and from 2011 to 2012, the number of students decreases.\n",
    "\n",
    "increases_years = [school_years[i] for i in range(n-1) if total_students[i+1] > total_students[i]]\n",
    "print('The number of students increases',len(increases_years))\n",
    "\n",
    "decreases_years = [school_years[i] for i in range(n-1) if total_students[i+1] < total_students[i]]\n",
    "print('The number of students increases',len(decreases_years))\n"
   ]
  },
  {
   "cell_type": "code",
   "execution_count": null,
   "metadata": {},
   "outputs": [],
   "source": [
    "#Lust comprehension: create a new list use for loop & original list\n",
    "#General syntax: x for m in seq if con"
   ]
  },
  {
   "cell_type": "code",
   "execution_count": 24,
   "metadata": {},
   "outputs": [
    {
     "name": "stdout",
     "output_type": "stream",
     "text": [
      "[69, 31, 93, 28, -33, 91, 62, -25, 13, -69]\n",
      "[28, 62]\n",
      "[69, 31, 93, -33, 91, -25, 13, -69]\n",
      "[-33, -25, -69]\n"
     ]
    }
   ],
   "source": [
    "import random as rd\n",
    "numbers = rd.sample(range(-100, 100),  10)\n",
    "print(numbers)\n",
    "\n",
    "even = [n for n in numbers if n % 2==0]\n",
    "print(even)\n",
    "odd = [n for n in numbers if n % 2!=0]\n",
    "print(odd)\n",
    "negative = [n for n in numbers if n < 0]\n",
    "print(negative)\n"
   ]
  },
  {
   "cell_type": "code",
   "execution_count": 30,
   "metadata": {},
   "outputs": [
    {
     "name": "stdout",
     "output_type": "stream",
     "text": [
      "Longest name: Paul McCartney\n",
      "Longest name is : Paul McCartney\n",
      "Ringo Starr\n"
     ]
    }
   ],
   "source": [
    "the_beatles = ['John', 'Paul McCartney', 'George', 'Ringo Starr']\n",
    "lengths =[len(n) for n in the_beatles]\n",
    "#find longest name\n",
    "print('Longest name:', the_beatles[lengths.index(max(lengths))])\n",
    "print('Longest name is:', max(the_beatles, key=len))\n",
    "print(max(the_beatles)) # not correct, max by alphabetical order\n",
    "\n"
   ]
  },
  {
   "cell_type": "code",
   "execution_count": 31,
   "metadata": {},
   "outputs": [
    {
     "name": "stdout",
     "output_type": "stream",
     "text": [
      "[69, 31, 93, 28, -33, 91, 62, -25, 13, -69]\n",
      "[69, 31, 93, 28, 33, 91, 62, 25, 13, 69]\n"
     ]
    }
   ],
   "source": [
    "#convert old list to new list using list comprehension\n",
    "print(numbers)\n",
    "new_numbers = [n if n > 0 else -n for n in numbers]\n",
    "print(new_numbers)"
   ]
  },
  {
   "cell_type": "code",
   "execution_count": 33,
   "metadata": {},
   "outputs": [
    {
     "name": "stdout",
     "output_type": "stream",
     "text": [
      "even number in the list new number  2\n",
      "even number in the list new number  1\n"
     ]
    }
   ],
   "source": [
    "#count how many even number in the list new number\n",
    "print('even number in the list new number ', len ([n for n in new_numbers if n % 2 ==0  ]))\n",
    "print('even number in the list new number ', sum ([1 if 2 % 2 == 0 else 0 in new_numbers  ]))"
   ]
  }
 ],
 "metadata": {
  "kernelspec": {
   "display_name": "Python 3.10.8 64-bit",
   "language": "python",
   "name": "python3"
  },
  "language_info": {
   "codemirror_mode": {
    "name": "ipython",
    "version": 3
   },
   "file_extension": ".py",
   "mimetype": "text/x-python",
   "name": "python",
   "nbconvert_exporter": "python",
   "pygments_lexer": "ipython3",
   "version": "3.10.8"
  },
  "orig_nbformat": 4,
  "vscode": {
   "interpreter": {
    "hash": "26de051ba29f2982a8de78e945f0abaf191376122a1563185a90213a26c5da77"
   }
  }
 },
 "nbformat": 4,
 "nbformat_minor": 2
}
