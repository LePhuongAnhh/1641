{
 "cells": [
  {
   "cell_type": "code",
   "execution_count": 1,
   "metadata": {},
   "outputs": [
    {
     "name": "stdout",
     "output_type": "stream",
     "text": [
      "Hello\n"
     ]
    }
   ],
   "source": [
    "print ('Hello')"
   ]
  },
  {
   "cell_type": "code",
   "execution_count": 1,
   "metadata": {},
   "outputs": [
    {
     "name": "stdout",
     "output_type": "stream",
     "text": [
      "max is  8\n"
     ]
    }
   ],
   "source": [
    "a = int(input('Enter a: '))\n",
    "b = int(input('Enter b: '))\n",
    "if a > b:\n",
    "    m = a\n",
    "else:\n",
    "    m = b\n",
    "print('max is ', m)"
   ]
  },
  {
   "cell_type": "code",
   "execution_count": 3,
   "metadata": {},
   "outputs": [
    {
     "name": "stdout",
     "output_type": "stream",
     "text": [
      "max is  8\n"
     ]
    }
   ],
   "source": [
    "print('max is ', a if a> b else b)"
   ]
  },
  {
   "cell_type": "code",
   "execution_count": 9,
   "metadata": {},
   "outputs": [
    {
     "name": "stdout",
     "output_type": "stream",
     "text": [
      "4,5,6 are sides of a triangle\n",
      "Area = 9.921567\n"
     ]
    }
   ],
   "source": [
    "a = int(input('Enter a: '))\n",
    "b = int(input('Enter b: '))\n",
    "c = int(input('Enter c: '))\n",
    "\n",
    "if a <= 0 or b <= 0 or c <=0:\n",
    "    print('All are negative')\n",
    "elif a + b <= c or a + c <=b or b + c <=a:\n",
    "    print('sum of any two sides should be great than the third side')    \n",
    "else:\n",
    "    print(f'{a},{b},{c} are sides of a triangle')\n",
    "    p = (a + c + b)/2\n",
    "    s = (p*(p-a)*(p-b)*(p-c))**0.5\n",
    "    print('Area = {:.2f}'.format(s))    "
   ]
  },
  {
   "cell_type": "code",
   "execution_count": 12,
   "metadata": {},
   "outputs": [
    {
     "name": "stdout",
     "output_type": "stream",
     "text": [
      "|100       |\n",
      "|      3.14|\n",
      "|    hello python    |\n"
     ]
    }
   ],
   "source": [
    "a = 100\n",
    "b = 3.1415\n",
    "s = 'hello python'\n",
    "\n",
    "#print integer, left agile, 10 spaces\n",
    "print('|{:<10d}|'.format(a))\n",
    "\n",
    "#print float, left agile, 10 spaces, 2decimal places\n",
    "print('|{:>10.2f}|'.format(b))\n",
    "\n",
    "#print string, agile center, 20 spaces\n",
    "print('|{:^20s}|'.format(s))"
   ]
  },
  {
   "cell_type": "code",
   "execution_count": 1,
   "metadata": {},
   "outputs": [
    {
     "name": "stdout",
     "output_type": "stream",
     "text": [
      "English   :       6.9\n",
      "MAth      :       9.0\n",
      "Science   :       8.9\n",
      "Avg       :      8.27\n",
      "Rank      :         D\n"
     ]
    }
   ],
   "source": [
    "#write a program that asks the user to enter 3 grades(English, Maths, Science)\n",
    "#calculate avg and print the grades along with the average\n",
    "\n",
    "a = float(input('Enter a: '))\n",
    "b = float(input('Enter b: '))\n",
    "c = float(input('Enter c: '))\n",
    "d = (a + b + c)/3\n",
    "\n",
    "if d > 0  and d < 4:\n",
    "    rank = 'F'\n",
    "elif d >= 4  and d <= 6.5:\n",
    "    rank = 'P'\n",
    "elif d >= 6.5  and d < 8:\n",
    "    rank = 'M'\n",
    "else:\n",
    "    rank ='D'   \n",
    "\n",
    "print (\"{:<10s}:{:>10.1f}\".format( 'English', a))\n",
    "print (\"{:<10s}:{:>10.1f}\".format('MAth', b))\n",
    "print (\"{:<10s}:{:>10.1f}\".format('Science', c))\n",
    "print (\"{:<10s}:{:>10.2f}\".format('Avg', d))\n",
    "print (\"{:<10s}:{:>10s}\".format('Rank', rank))\n",
    "\n",
    "\n",
    "\n"
   ]
  },
  {
   "cell_type": "code",
   "execution_count": 32,
   "metadata": {},
   "outputs": [
    {
     "name": "stdout",
     "output_type": "stream",
     "text": [
      "0123456789"
     ]
    }
   ],
   "source": [
    "for i in range (10):  #for( int i = 0; i < 10; i++)\n",
    "    print (i, end='')"
   ]
  },
  {
   "cell_type": "code",
   "execution_count": 34,
   "metadata": {},
   "outputs": [
    {
     "name": "stdout",
     "output_type": "stream",
     "text": [
      "10 9 8 7 6 5 4 3 2 1 "
     ]
    }
   ],
   "source": [
    "for i in range (10, 0, -1): # for( int i = 10; i > 0; i --) // start, end, step\n",
    "    print (i, end=' ')"
   ]
  },
  {
   "cell_type": "code",
   "execution_count": 4,
   "metadata": {},
   "outputs": [
    {
     "name": "stdout",
     "output_type": "stream",
     "text": [
      " tong cua {n} la  11339\n",
      " tong cua {n} la  64303468\n",
      "* * * * * * *\n",
      "**\n",
      "***\n",
      "1 \n",
      "1 2 \n",
      "1 2 3 \n"
     ]
    }
   ],
   "source": [
    "s = 0; \n",
    "n = int(input('Enter a: '))\n",
    "\n",
    "for i in range( a):\n",
    "    a = a + i\n",
    "print (' tong cua {n} la ', i) \n",
    "\n",
    "\n",
    "\n",
    "for i in range(0, a, +2):\n",
    "    a = (a+2) + i\n",
    "print (' tong cua {n} la ', i) \n",
    "\n",
    "\n",
    "\n",
    "for i in range(1, n + 1):\n",
    "    for j in range(1, i + 1):\n",
    "        print('*', end=' ')\n",
    "\n",
    "#c2: \n",
    "for i in range (1, n+1):\n",
    "    print('*' * i)\n",
    "            \n",
    "\n",
    "for i in range(1, n + 1):\n",
    "    for j in range(1, i + 1):\n",
    "        print(j, end=' ')\n",
    "    print ()    \n",
    "\n",
    "\n"
   ]
  },
  {
   "cell_type": "code",
   "execution_count": null,
   "metadata": {},
   "outputs": [],
   "source": [
    "s = 0 \n",
    "n = 1\n",
    "while n > 0:\n",
    "    n = int( input('Enter n: '))\n",
    "    if n > 0:\n",
    "        s = s + n\n",
    "    else:\n",
    "        print('stop here!!!')\n",
    "        \n",
    "print ('sum = ', s)"
   ]
  },
  {
   "cell_type": "code",
   "execution_count": null,
   "metadata": {},
   "outputs": [],
   "source": [
    "TICKET_PRICE = 2.5\n",
    "totalPrices = 0\n",
    "balance = 0\n",
    "numberOfTickets = int(input('Enter the number of ticket: '))\n",
    "totalPrices = numberOfTickets * TICKET_PRICE\n",
    "print('Total of ticket is ', totalPrices )\n",
    "\n",
    "while totalPrices > 0:\n",
    "    coin = int(input('Insert coin: '))    \n",
    "    if coin not in(1,2,5):\n",
    "        print('You must enter coin $1, $2 or $5')      \n",
    "        continue\n",
    "\n",
    "    totalPrices = totalPrices - coin\n",
    "    if totalPrices > 0:           \n",
    "        print('Pay: ${totalPrices:.2f}')\n",
    "    else:           \n",
    "        print('Your balance is: ', -totalPrices) \n",
    "\n",
    "        \n",
    "        "
   ]
  },
  {
   "cell_type": "code",
   "execution_count": 1,
   "metadata": {},
   "outputs": [
    {
     "name": "stdout",
     "output_type": "stream",
     "text": [
      "s s\n",
      "6 6\n"
     ]
    }
   ],
   "source": [
    "a = [2,4,6,3,6]\n",
    "b = ['s', 0 , \"python\", 5,6]\n",
    "#indexing\n",
    "print(b[0], b[-5])\n",
    "print(b[4], b[-1])"
   ]
  }
 ],
 "metadata": {
  "kernelspec": {
   "display_name": "Python 3.10.8 64-bit",
   "language": "python",
   "name": "python3"
  },
  "language_info": {
   "codemirror_mode": {
    "name": "ipython",
    "version": 3
   },
   "file_extension": ".py",
   "mimetype": "text/x-python",
   "name": "python",
   "nbconvert_exporter": "python",
   "pygments_lexer": "ipython3",
   "version": "3.10.8"
  },
  "orig_nbformat": 4,
  "vscode": {
   "interpreter": {
    "hash": "26de051ba29f2982a8de78e945f0abaf191376122a1563185a90213a26c5da77"
   }
  }
 },
 "nbformat": 4,
 "nbformat_minor": 2
}
