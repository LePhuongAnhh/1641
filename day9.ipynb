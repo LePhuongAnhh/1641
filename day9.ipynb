{
 "cells": [
  {
   "cell_type": "code",
   "execution_count": null,
   "metadata": {},
   "outputs": [],
   "source": [
    "with open('','r') as f:\n",
    "    content = f.readlines()\n",
    "    print(content)"
   ]
  },
  {
   "cell_type": "code",
   "execution_count": null,
   "metadata": {},
   "outputs": [],
   "source": [
    "#Todo: read agencies.txt, find all agencies that has Authority in name\n",
    "with open('Datasets\\\\agencies.txt', 'r') as f:\n",
    "    content = f.readlines()\n",
    "    if 'Authority' in line:\n",
    "        print(line.strip())"
   ]
  },
  {
   "cell_type": "code",
   "execution_count": null,
   "metadata": {},
   "outputs": [],
   "source": [
    "#read agencies line by line\n",
    "try:\n",
    "    f = open('Datasets\\\\agencies.txt', 'r')\n",
    "    line = f.readline()\n",
    "    while line:\n",
    "        if 'Authority' in line:\n",
    "            print(line.strip())\n",
    "        line = f.readline()  \n",
    "    f.close()    \n",
    "except FileNotFoundError:\n",
    "    print('File not found')              \n"
   ]
  },
  {
   "cell_type": "code",
   "execution_count": null,
   "metadata": {},
   "outputs": [],
   "source": [
    "#Todo: count number of lines & number of word in agencies.txt\n",
    "\n",
    "with open('Datasets\\\\agencies.txt', 'r') as f:\n",
    "    content = f.readlines()\n",
    "    print('Number of lines: ', len(content))\n",
    "    count = 0\n",
    "    for line in content:\n",
    "        count += len(line.split()) #count number of words in a line\n",
    "    print('Number of words: ', count)    \n"
   ]
  },
  {
   "cell_type": "code",
   "execution_count": null,
   "metadata": {},
   "outputs": [],
   "source": [
    "#Todo: read & print name, email of authors in authors.txt\n",
    "#for example:\n",
    "#Paul "
   ]
  }
 ],
 "metadata": {
  "kernelspec": {
   "display_name": "Python 3.10.8 64-bit (microsoft store)",
   "language": "python",
   "name": "python3"
  },
  "language_info": {
   "name": "python",
   "version": "3.10.8"
  },
  "orig_nbformat": 4,
  "vscode": {
   "interpreter": {
    "hash": "7e0d5555e06e92e085eb0bb006ea95f03bc0dc7d54db60c0e65739bb2477b35d"
   }
  }
 },
 "nbformat": 4,
 "nbformat_minor": 2
}
