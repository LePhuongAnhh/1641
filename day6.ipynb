{
 "cells": [
  {
   "cell_type": "code",
   "execution_count": 40,
   "metadata": {},
   "outputs": [],
   "source": [
    "#search for x in items, return True if found, False otherwise. If abs=True, search for |x|\n",
    "def search(items, x, abs=False):\n",
    "    if abs == False:\n",
    "        for i in items:\n",
    "            if i == x:\n",
    "                return True          \n",
    "            return False\n",
    "    else:\n",
    "        for i in items:\n",
    "            if i == x or x ==-i:\n",
    "                return True          \n",
    "            return False            \n"
   ]
  },
  {
   "cell_type": "code",
   "execution_count": 41,
   "metadata": {},
   "outputs": [
    {
     "name": "stdout",
     "output_type": "stream",
     "text": [
      "False\n",
      "False\n",
      "False\n"
     ]
    }
   ],
   "source": [
    "print(search([2,7,-4,7,8], -3))\n",
    "print(search([2,7,-4,7,8], 3))\n",
    "print(search([2,7,-4,7,8], -3, abs=True))"
   ]
  },
  {
   "cell_type": "code",
   "execution_count": 42,
   "metadata": {},
   "outputs": [],
   "source": [
    "def my_max(items, key=None):\n",
    "    if key is None:\n",
    "        m = items[0]\n",
    "        for i in items:\n",
    "            if i > m:\n",
    "                m = i\n",
    "        return m\n",
    "    else:\n",
    "        m = items\n",
    "        for i in items:\n",
    "            if key(i) > key(m):\n",
    "                m = i\n",
    "            return m    \n"
   ]
  },
  {
   "cell_type": "code",
   "execution_count": 43,
   "metadata": {},
   "outputs": [
    {
     "name": "stdout",
     "output_type": "stream",
     "text": [
      "Tom Cuiaa\n",
      "John Cuiris\n"
     ]
    }
   ],
   "source": [
    "names = ['John Cuiris', 'Johnlk Foreces', 'Johnm Foeevrs', 'Tom Cuiaa', 'Anna Bellll', ]\n",
    "m = my_max(names)\n",
    "print(m)\n",
    "m = my_max(names, key=len)\n",
    "print(m)"
   ]
  },
  {
   "cell_type": "code",
   "execution_count": 44,
   "metadata": {},
   "outputs": [],
   "source": [
    "#find name that has last name\n",
    "def last_name(names):\n",
    "    return names.split()[-1]\n",
    "\n"
   ]
  },
  {
   "cell_type": "code",
   "execution_count": 45,
   "metadata": {},
   "outputs": [
    {
     "ename": "AttributeError",
     "evalue": "'list' object has no attribute 'split'",
     "output_type": "error",
     "traceback": [
      "\u001b[1;31m---------------------------------------------------------------------------\u001b[0m",
      "\u001b[1;31mAttributeError\u001b[0m                            Traceback (most recent call last)",
      "Cell \u001b[1;32mIn [45], line 1\u001b[0m\n\u001b[1;32m----> 1\u001b[0m m \u001b[39m=\u001b[39m my_max(names, key\u001b[39m=\u001b[39;49mlast_name)\n\u001b[0;32m      2\u001b[0m \u001b[39mprint\u001b[39m(m)\n",
      "Cell \u001b[1;32mIn [42], line 11\u001b[0m, in \u001b[0;36mmy_max\u001b[1;34m(items, key)\u001b[0m\n\u001b[0;32m      9\u001b[0m m \u001b[39m=\u001b[39m items\n\u001b[0;32m     10\u001b[0m \u001b[39mfor\u001b[39;00m i \u001b[39min\u001b[39;00m items:\n\u001b[1;32m---> 11\u001b[0m     \u001b[39mif\u001b[39;00m key(i) \u001b[39m>\u001b[39m key(m):\n\u001b[0;32m     12\u001b[0m         m \u001b[39m=\u001b[39m i\n\u001b[0;32m     13\u001b[0m     \u001b[39mreturn\u001b[39;00m m\n",
      "Cell \u001b[1;32mIn [44], line 3\u001b[0m, in \u001b[0;36mlast_name\u001b[1;34m(names)\u001b[0m\n\u001b[0;32m      2\u001b[0m \u001b[39mdef\u001b[39;00m \u001b[39mlast_name\u001b[39m(names):\n\u001b[1;32m----> 3\u001b[0m     \u001b[39mreturn\u001b[39;00m names\u001b[39m.\u001b[39;49msplit()[\u001b[39m-\u001b[39m\u001b[39m1\u001b[39m]\n",
      "\u001b[1;31mAttributeError\u001b[0m: 'list' object has no attribute 'split'"
     ]
    }
   ],
   "source": [
    "m = my_max(names, key=last_name)\n",
    "print(m)"
   ]
  },
  {
   "cell_type": "code",
   "execution_count": null,
   "metadata": {},
   "outputs": [],
   "source": [
    "#Find name that has max number of value\n",
    "def value_name(names):\n",
    "    vovels = 'euoai'\n",
    "    count = 0\n",
    "    for v in names.lower():\n",
    "        if v in vovels:\n",
    "            count += 1\n",
    "    return count\n",
    "        \n"
   ]
  },
  {
   "cell_type": "code",
   "execution_count": null,
   "metadata": {},
   "outputs": [],
   "source": [
    "m = my_max(names, key=value_name)\n",
    "print(m) "
   ]
  },
  {
   "cell_type": "code",
   "execution_count": 49,
   "metadata": {},
   "outputs": [
    {
     "name": "stdout",
     "output_type": "stream",
     "text": [
      "[22, 41, 90, 21, 53, 68, 31, 23, 56, 85]\n"
     ]
    },
    {
     "ename": "TypeError",
     "evalue": "unsupported operand type(s) for %: 'list' and 'int'",
     "output_type": "error",
     "traceback": [
      "\u001b[1;31m---------------------------------------------------------------------------\u001b[0m",
      "\u001b[1;31mTypeError\u001b[0m                                 Traceback (most recent call last)",
      "Cell \u001b[1;32mIn [49], line 8\u001b[0m\n\u001b[0;32m      5\u001b[0m \u001b[39mdef\u001b[39;00m \u001b[39mdigit\u001b[39m(n):\n\u001b[0;32m      6\u001b[0m     \u001b[39mreturn\u001b[39;00m n \u001b[39m%\u001b[39m \u001b[39m10\u001b[39m\n\u001b[1;32m----> 8\u001b[0m \u001b[39mprint\u001b[39m(my_max(numbers, key\u001b[39m=\u001b[39;49mdigit))\n",
      "Cell \u001b[1;32mIn [42], line 11\u001b[0m, in \u001b[0;36mmy_max\u001b[1;34m(items, key)\u001b[0m\n\u001b[0;32m      9\u001b[0m m \u001b[39m=\u001b[39m items\n\u001b[0;32m     10\u001b[0m \u001b[39mfor\u001b[39;00m i \u001b[39min\u001b[39;00m items:\n\u001b[1;32m---> 11\u001b[0m     \u001b[39mif\u001b[39;00m key(i) \u001b[39m>\u001b[39m key(m):\n\u001b[0;32m     12\u001b[0m         m \u001b[39m=\u001b[39m i\n\u001b[0;32m     13\u001b[0m     \u001b[39mreturn\u001b[39;00m m\n",
      "Cell \u001b[1;32mIn [49], line 6\u001b[0m, in \u001b[0;36mdigit\u001b[1;34m(n)\u001b[0m\n\u001b[0;32m      5\u001b[0m \u001b[39mdef\u001b[39;00m \u001b[39mdigit\u001b[39m(n):\n\u001b[1;32m----> 6\u001b[0m     \u001b[39mreturn\u001b[39;00m n \u001b[39m%\u001b[39;49m \u001b[39m10\u001b[39;49m\n",
      "\u001b[1;31mTypeError\u001b[0m: unsupported operand type(s) for %: 'list' and 'int'"
     ]
    }
   ],
   "source": [
    "# Find number that has max last digit\n",
    "import random as np\n",
    "numbers = [np.random.randint(10,100) for i in range(10)]\n",
    "print(numbers)\n",
    "def digit(n):\n",
    "    return n % 10\n",
    "\n",
    "print(my_max(numbers, key=digit))"
   ]
  },
  {
   "cell_type": "code",
   "execution_count": null,
   "metadata": {},
   "outputs": [],
   "source": [
    "#Find number that has max sum of digital\n",
    "def sum_digital(n):\n",
    "    return n //10 + n % 10\n",
    "\n",
    "print(my_max(numbers, key=sum_digital))\n",
    "#Find number that has max absolute value\n",
    "numbers = [np.random.randint(10,100) for i in range(10)]\n",
    "print(numbers)\n",
    "print(my_max(numbers, key=abs))"
   ]
  }
 ],
 "metadata": {
  "kernelspec": {
   "display_name": "Python 3.10.8 64-bit",
   "language": "python",
   "name": "python3"
  },
  "language_info": {
   "codemirror_mode": {
    "name": "ipython",
    "version": 3
   },
   "file_extension": ".py",
   "mimetype": "text/x-python",
   "name": "python",
   "nbconvert_exporter": "python",
   "pygments_lexer": "ipython3",
   "version": "3.10.8"
  },
  "orig_nbformat": 4,
  "vscode": {
   "interpreter": {
    "hash": "26de051ba29f2982a8de78e945f0abaf191376122a1563185a90213a26c5da77"
   }
  }
 },
 "nbformat": 4,
 "nbformat_minor": 2
}
