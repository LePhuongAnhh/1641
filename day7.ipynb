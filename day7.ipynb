{
 "cells": [
  {
   "cell_type": "code",
   "execution_count": 1,
   "metadata": {},
   "outputs": [],
   "source": [
    "def my_sort(a, compare=lambda x, y: x < y):\n",
    "    n = len(a)\n",
    "    for i in range(n-1):\n",
    "        for j in range(i+1, n):\n",
    "            if compare(a[j], a[i]):\n",
    "                a[i], a[j] = a[j], a[i]"
   ]
  },
  {
   "cell_type": "code",
   "execution_count": 2,
   "metadata": {},
   "outputs": [
    {
     "name": "stdout",
     "output_type": "stream",
     "text": [
      "[14, 85, 18, 16, 30, 11, 39, 83, 67, 52]\n",
      "[11, 14, 16, 18, 30, 39, 52, 67, 83, 85]\n",
      "[85, 83, 67, 52, 39, 30, 18, 16, 14, 11]\n"
     ]
    }
   ],
   "source": [
    "import random as rd\n",
    "numbers = [rd.randint(10, 90) for _ in range(10)]\n",
    "print(numbers)\n",
    "my_sort(numbers)\n",
    "print(numbers)\n",
    "my_sort(numbers, compare=lambda x, y: x > y)\n",
    "print(numbers)\n"
   ]
  },
  {
   "cell_type": "code",
   "execution_count": null,
   "metadata": {},
   "outputs": [],
   "source": [
    "#sort ascending by the last digit\n",
    "my_sort(numbers, compare=lambda x, y: x % 10 < y % 10)\n",
    "print(numbers)\n"
   ]
  },
  {
   "cell_type": "code",
   "execution_count": 3,
   "metadata": {},
   "outputs": [
    {
     "name": "stdout",
     "output_type": "stream",
     "text": [
      "[39, 18, 67, 16, 85, 14, 83, 52, 11, 30]\n"
     ]
    }
   ],
   "source": [
    "#sort descending by the last digit\n",
    "my_sort(numbers, compare=lambda x, y: x % 10 > y % 10)\n",
    "print(numbers)\n"
   ]
  },
  {
   "cell_type": "code",
   "execution_count": 4,
   "metadata": {},
   "outputs": [
    {
     "name": "stdout",
     "output_type": "stream",
     "text": [
      "[11, 30, 14, 16, 52, 18, 83, 39, 85, 67]\n"
     ]
    }
   ],
   "source": [
    "#sort ascending by sum of 2 digit\n",
    "my_sort(numbers, compare=lambda x, y: x //10 + x % 10 < y //10 + y % 10)\n",
    "print(numbers)"
   ]
  },
  {
   "cell_type": "code",
   "execution_count": null,
   "metadata": {},
   "outputs": [],
   "source": [
    "#sort descending by sum of 2 digit\n",
    "my_sort(numbers, compare=lambda x, y: x //10 + x % 10 > y //10 + y % 10)\n",
    "print(numbers)"
   ]
  },
  {
   "cell_type": "code",
   "execution_count": 12,
   "metadata": {},
   "outputs": [
    {
     "name": "stdout",
     "output_type": "stream",
     "text": [
      "['Alice', 'Anna', 'Brad Pitt', 'Jennifer Aniston', 'Tom Hanks']\n",
      "['Tom Hanks', 'Jennifer Aniston', 'Brad Pitt', 'Anna', 'Alice']\n",
      "['Anna', 'Alice', 'Tom Hanks', 'Brad Pitt', 'Jennifer Aniston']\n",
      "['Jennifer Aniston', 'Brad Pitt', 'Tom Hanks', 'Alice', 'Anna']\n",
      "['Alice', 'Jennifer Aniston', 'Anna', 'Tom Hanks', 'Brad Pitt']\n",
      "['Brad Pitt', 'Tom Hanks', 'Anna', 'Jennifer Aniston', 'Alice']\n"
     ]
    }
   ],
   "source": [
    "names = ['Tom Hanks', 'Brad Pitt', 'Anna', 'Alice', 'Jennifer Aniston']\n",
    "#Sort name ascending by alphabet\n",
    "my_sort(names)\n",
    "print(names)\n",
    "#Sort name descending by alphabet\n",
    "greater = lambda x, y : x  > y\n",
    "my_sort(names, compare=greater)\n",
    "print(names)\n",
    "#Sort name ascending by length of name\n",
    "my_sort(names, compare=lambda x, y : len(x) < len(y))\n",
    "print(names)\n",
    "#Sort name descending by length of name\n",
    "my_sort(names, compare=lambda x, y : len(x) > len(y))\n",
    "print(names)\n",
    "#Sort name ascending by last name\n",
    "my_sort(names, compare=lambda x, y : x.split()[-1] < y.split()[-1])\n",
    "print(names)\n",
    "#Sort name descending by last name\n",
    "my_sort(names, compare=lambda x, y : x.split()[-1] > y.split()[-1])\n",
    "print(names)"
   ]
  },
  {
   "cell_type": "code",
   "execution_count": 13,
   "metadata": {},
   "outputs": [
    {
     "name": "stdout",
     "output_type": "stream",
     "text": [
      "[  3 -78  60  88  37 -90   8 -71  10 -18 -72  33 -26 -44 -21]\n"
     ]
    }
   ],
   "source": [
    "#Filter syntax: filter(function, iterable)\n",
    "import numpy as np\n",
    "numbers = np.random.randint(-99, 99, 15)\n",
    "print(numbers) "
   ]
  },
  {
   "cell_type": "code",
   "execution_count": 17,
   "metadata": {},
   "outputs": [
    {
     "name": "stdout",
     "output_type": "stream",
     "text": [
      "[-78, -90, -71, -18, -72, -26, -44, -21]\n",
      "[-78 -90 -71 -18 -72 -26 -44 -21]\n",
      "-78 -90 -71 -18 -72 -26 -44 -21 \n",
      "[-78, -90, -71, -18, -72, -26, -44, -21]\n"
     ]
    }
   ],
   "source": [
    "#filter out negative numbers from numbers using list comprehension\n",
    "negatives = [x for x in numbers if x < 0]\n",
    "print(negatives)\n",
    "#filter out negative numbers from numbers using list boolean indexing\n",
    "negatives = numbers[numbers < 0]\n",
    "print(negatives)\n",
    "#filter out negative numbers from numbers using for loop\n",
    "negatives =[]\n",
    "for x in numbers:\n",
    "    if x < 0:\n",
    "        print(x, end=' ')\n",
    "print()        \n",
    "\n",
    "#filter out negative numbers from numbers using filter function\n",
    "negatives = list(filter(lambda x: x < 0, numbers))\n",
    "print(negatives) "
   ]
  },
  {
   "cell_type": "code",
   "execution_count": 20,
   "metadata": {},
   "outputs": [
    {
     "name": "stdout",
     "output_type": "stream",
     "text": [
      "-420\n",
      "-420\n",
      "-420\n",
      "-420\n",
      "0\n"
     ]
    }
   ],
   "source": [
    "#calculate sum of negative numbers from numbers using list comprehension\n",
    "negatives = [x for x in numbers if x < 0]\n",
    "print(sum(negatives))\n",
    "#calculate sum of negative numbers from numbers using list boolean indexing\n",
    "negatives = numbers[numbers < 0]\n",
    "print(sum(negatives))\n",
    "#calculate sum of negative numbers from numbers using for loop\n",
    "negatives =[]\n",
    "s = 0\n",
    "for x in numbers:\n",
    "    if x < 0:\n",
    "        s += x\n",
    "print(s)        \n",
    "\n",
    "#calculate sum of negative numbers from numbers using filter function\n",
    "negatives = filter(lambda x: x < 0, numbers)\n",
    "print(sum(negatives)) \n",
    "print(sum(negatives)) # 0 because not more elements in negative\n"
   ]
  },
  {
   "cell_type": "code",
   "execution_count": 21,
   "metadata": {},
   "outputs": [],
   "source": [
    "devices = {'Iphone 14': 900,'OPPO A5s': 300,'Samsung Galaxy 12': 780,'Iphone 12': 700,\n",
    "        'bphone': 500,'Xioami': 690,'Iphone 11': 600,'vin smart': 200,}"
   ]
  },
  {
   "cell_type": "code",
   "execution_count": 26,
   "metadata": {},
   "outputs": [
    {
     "name": "stdout",
     "output_type": "stream",
     "text": [
      "dict_items([('Iphone 14', 900), ('Oppo A5s', 300), ('Samsung Galasy 12', 780), ('Iphone 12', 700), ('bphone', 500), ('xioami', 690), ('Iphone 11', 600), ('vin smart', 200)])\n"
     ]
    }
   ],
   "source": [
    "print(devices.items())\n"
   ]
  },
  {
   "cell_type": "code",
   "execution_count": 29,
   "metadata": {},
   "outputs": [
    {
     "name": "stdout",
     "output_type": "stream",
     "text": [
      "Iphone 14: $900\n",
      "Iphone 12: $700\n",
      "Iphone 11: $600\n",
      "Average price: $733.3333333333334\n"
     ]
    }
   ],
   "source": [
    "#find iphone devices using filter function\n",
    "iphones = filter(lambda x: 'Iphone' in x[0], devices.items())\n",
    "#calculate avg price of iphone\n",
    "count = 0\n",
    "sum_price = 0\n",
    "for phone in iphones:\n",
    "    print(f'{phone[0]}: ${phone[1]}')\n",
    "    count +=1\n",
    "    sum_price += phone[1]\n",
    "print(f'Average price: ${sum_price / count}')    \n"
   ]
  },
  {
   "cell_type": "code",
   "execution_count": 30,
   "metadata": {},
   "outputs": [
    {
     "name": "stdout",
     "output_type": "stream",
     "text": [
      "['Hanks', 'Pitt', 'Anna', 'Alice', 'Aniston']\n"
     ]
    }
   ],
   "source": [
    "# map function syntax: map(function, iterable)\n",
    "names = ['Tom Hanks', 'Brad Pitt', 'Anna', 'Alice', 'Jennifer Aniston']\n",
    "#get last names using list comprehension\n",
    "last_name = [n.split()[-1] for n in names]\n",
    "print(last_name)\n",
    "#get last names using map function\n",
    "last_name = list(map(lambda x: x.split()[-1], names))"
   ]
  },
  {
   "cell_type": "code",
   "execution_count": 33,
   "metadata": {},
   "outputs": [
    {
     "name": "stdout",
     "output_type": "stream",
     "text": [
      "Sum of all prices: $4670\n"
     ]
    },
    {
     "ename": "TypeError",
     "evalue": "map() must have at least two arguments.",
     "output_type": "error",
     "traceback": [
      "\u001b[1;31m---------------------------------------------------------------------------\u001b[0m",
      "\u001b[1;31mTypeError\u001b[0m                                 Traceback (most recent call last)",
      "Cell \u001b[1;32mIn [33], line 7\u001b[0m\n\u001b[0;32m      5\u001b[0m \u001b[39m#print sum of all iphone prices\u001b[39;00m\n\u001b[0;32m      6\u001b[0m iphones \u001b[39m=\u001b[39m \u001b[39mfilter\u001b[39m(\u001b[39mlambda\u001b[39;00m x : \u001b[39m'\u001b[39m\u001b[39mIphone\u001b[39m\u001b[39m'\u001b[39m \u001b[39min\u001b[39;00m x[\u001b[39m0\u001b[39m], devices\u001b[39m.\u001b[39mitems()) \n\u001b[1;32m----> 7\u001b[0m iphone_prices \u001b[39m=\u001b[39m \u001b[39mmap\u001b[39;49m(\u001b[39mfilter\u001b[39;49m(\u001b[39mlambda\u001b[39;49;00m x: x[\u001b[39m1\u001b[39;49m], iphones))\n\u001b[0;32m      8\u001b[0m \u001b[39mprint\u001b[39m(\u001b[39mf\u001b[39m\u001b[39m'\u001b[39m\u001b[39mSum of all iphone prices: $\u001b[39m\u001b[39m{\u001b[39;00miphone_prices\u001b[39m}\u001b[39;00m\u001b[39m'\u001b[39m)\n",
      "\u001b[1;31mTypeError\u001b[0m: map() must have at least two arguments."
     ]
    }
   ],
   "source": [
    "#print sum of all prices\n",
    "prices = map(lambda x : x[1], devices.items())\n",
    "print(f'Sum of all prices: ${sum(prices)}')\n",
    "\n",
    "#print sum of all iphone prices\n",
    "iphones = filter(lambda x : 'Iphone' in x[0], devices.items()) \n",
    "iphone_prices = map(filter(lambda x: x[1], iphones))\n",
    "print(f'Sum of all iphone prices: ${iphone_prices}')"
   ]
  }
 ],
 "metadata": {
  "kernelspec": {
   "display_name": "Python 3.10.8 64-bit",
   "language": "python",
   "name": "python3"
  },
  "language_info": {
   "codemirror_mode": {
    "name": "ipython",
    "version": 3
   },
   "file_extension": ".py",
   "mimetype": "text/x-python",
   "name": "python",
   "nbconvert_exporter": "python",
   "pygments_lexer": "ipython3",
   "version": "3.10.8"
  },
  "orig_nbformat": 4,
  "vscode": {
   "interpreter": {
    "hash": "26de051ba29f2982a8de78e945f0abaf191376122a1563185a90213a26c5da77"
   }
  }
 },
 "nbformat": 4,
 "nbformat_minor": 2
}
