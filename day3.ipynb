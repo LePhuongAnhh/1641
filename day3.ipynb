{
 "cells": [
  {
   "cell_type": "code",
   "execution_count": 5,
   "metadata": {},
   "outputs": [
    {
     "name": "stdout",
     "output_type": "stream",
     "text": [
      "1 2 3 \n",
      "4 5 6 \n",
      "7 8 9 \n"
     ]
    }
   ],
   "source": [
    "#2d lists: list of lists\n",
    "a = [[1,2,3], [4,5,6], [7,8,9]]\n",
    "for row in a:\n",
    "    for col in row:\n",
    "        print(col, end=' ')\n",
    "    print()    "
   ]
  },
  {
   "cell_type": "code",
   "execution_count": 2,
   "metadata": {},
   "outputs": [
    {
     "name": "stdout",
     "output_type": "stream",
     "text": [
      "[4, 5, 6]\n"
     ]
    }
   ],
   "source": [
    "print(a[1])"
   ]
  },
  {
   "cell_type": "code",
   "execution_count": 2,
   "metadata": {},
   "outputs": [
    {
     "ename": "NameError",
     "evalue": "name 'a' is not defined",
     "output_type": "error",
     "traceback": [
      "\u001b[1;31m---------------------------------------------------------------------------\u001b[0m",
      "\u001b[1;31mNameError\u001b[0m                                 Traceback (most recent call last)",
      "Cell \u001b[1;32mIn [2], line 2\u001b[0m\n\u001b[0;32m      1\u001b[0m \u001b[39m# slicing : same as 1d list\u001b[39;00m\n\u001b[1;32m----> 2\u001b[0m \u001b[39mprint\u001b[39m(a[\u001b[39m1\u001b[39m][\u001b[39m2\u001b[39m])\n",
      "\u001b[1;31mNameError\u001b[0m: name 'a' is not defined"
     ]
    }
   ],
   "source": [
    "# slicing : same as 1d list\n",
    "print(a[1][2])\n"
   ]
  },
  {
   "cell_type": "code",
   "execution_count": 4,
   "metadata": {},
   "outputs": [
    {
     "name": "stdout",
     "output_type": "stream",
     "text": [
      "[[4, 5, 6], [7, 8, 9]]\n"
     ]
    }
   ],
   "source": [
    "print(a[1:3])"
   ]
  },
  {
   "cell_type": "code",
   "execution_count": 12,
   "metadata": {},
   "outputs": [
    {
     "name": "stdout",
     "output_type": "stream",
     "text": [
      "Name: Alice, Grade: 8.0\n",
      "Name: Mike, Grade: 8.5\n",
      "Name: Tom, Grade: 9.5\n",
      "Name: Jack, Grade: 8.5\n"
     ]
    }
   ],
   "source": [
    "student_grade = [['John', 7.5], ['Mark', 7.0], ['Alice', 8.0],['Mike', 8.5],['Anna', 7.5] \n",
    "                ,['Tom', 9.5],  ['Marry', 7.5],['Bob', 7.5],  ['Jack', 8.5],['Perter', 7.5]]\n",
    "#Print distinction students who have grade >=8.0\n",
    "for row in student_grade:\n",
    "    if row[1] >= 8.0:\n",
    "        print(f'Name: {row[0]}, Grade: {row[1]}')"
   ]
  },
  {
   "cell_type": "code",
   "execution_count": 13,
   "metadata": {},
   "outputs": [
    {
     "name": "stdout",
     "output_type": "stream",
     "text": [
      "Number of passed student:  10\n"
     ]
    }
   ],
   "source": [
    "#Count how many passed student (grade >=4.0)\n",
    "count = 0\n",
    "for row in student_grade:\n",
    "    if row[1] >=4.0:       \n",
    "        count+= 1\n",
    "print('Number of passed student: ', count)        \n"
   ]
  },
  {
   "cell_type": "code",
   "execution_count": 16,
   "metadata": {},
   "outputs": [
    {
     "name": "stdout",
     "output_type": "stream",
     "text": [
      "[[], [1], [2, 3], [4, 5, 6]] 4\n",
      "6\n"
     ]
    }
   ],
   "source": [
    "#length of row can be different\n",
    "a = [[],\n",
    "    [1],\n",
    "    [2,3],\n",
    "    [4,5,6]]\n",
    "print(a, len(a))\n",
    "print(a[3][2])"
   ]
  },
  {
   "cell_type": "code",
   "execution_count": 23,
   "metadata": {},
   "outputs": [
    {
     "name": "stdout",
     "output_type": "stream",
     "text": [
      "[[66, 41, 82, 78, 74], [2, 1, 74, 42, 93], [15, 25, 79, 2, 29], [51, 47, 65, 59, 15], [94, 31, 56, 24, 68]]\n",
      "[[2, 1, 74, 42, 93], [15, 25, 79, 2, 29], [51, 47, 65, 59, 15]]\n",
      "[[2, 1, 74, 42, 93], [15, 25, 79, 2, 29], [51, 47, 65, 59, 15]]\n",
      "[[51, 47, 65, 59, 15], [94, 31, 56, 24, 68]]\n"
     ]
    },
    {
     "ename": "IndexError",
     "evalue": "list index out of range",
     "output_type": "error",
     "traceback": [
      "\u001b[1;31m---------------------------------------------------------------------------\u001b[0m",
      "\u001b[1;31mIndexError\u001b[0m                                Traceback (most recent call last)",
      "Cell \u001b[1;32mIn [23], line 16\u001b[0m\n\u001b[0;32m     14\u001b[0m \u001b[39m#get max, min of nth and print then\u001b[39;00m\n\u001b[0;32m     15\u001b[0m n \u001b[39m=\u001b[39m \u001b[39mint\u001b[39m(\u001b[39minput\u001b[39m(\u001b[39m'\u001b[39m\u001b[39mEnter n: \u001b[39m\u001b[39m'\u001b[39m))\n\u001b[1;32m---> 16\u001b[0m \u001b[39mprint\u001b[39m(\u001b[39mf\u001b[39m\u001b[39m'\u001b[39m\u001b[39mMax of \u001b[39m\u001b[39m{\u001b[39;00mn\u001b[39m}\u001b[39;00m\u001b[39m row: \u001b[39m\u001b[39m{\u001b[39;00m\u001b[39mmax\u001b[39m(a[n])\u001b[39m}\u001b[39;00m\u001b[39m, Min of \u001b[39m\u001b[39m{\u001b[39;00mn\u001b[39m}\u001b[39;00m\u001b[39m row: \u001b[39m\u001b[39m{\u001b[39;00m\u001b[39mmin\u001b[39m(a[n])\u001b[39m}\u001b[39;00m\u001b[39m'\u001b[39m)\n\u001b[0;32m     18\u001b[0m \u001b[39mprint\u001b[39m(\u001b[39m'\u001b[39m\u001b[39mSum of a[\u001b[39m\u001b[39m{n}\u001b[39;00m\u001b[39m]: \u001b[39m\u001b[39m{sum[(a)]}\u001b[39;00m\u001b[39m'\u001b[39m)\n",
      "\u001b[1;31mIndexError\u001b[0m: list index out of range"
     ]
    }
   ],
   "source": [
    "#Exercise\n",
    "#create 5*5 of random integer\n",
    "import random as rd\n",
    "a =[]\n",
    "for i in range(5):\n",
    "    a.append(rd.sample(range(1, 100),5))\n",
    "print(a)\n",
    "\n",
    "print(a[1:4])\n",
    "print(a[1:-1])\n",
    "\n",
    "print(a[3::])\n",
    "\n",
    "#get max, min of nth and print then\n",
    "n = int(input('Enter n: '))\n",
    "print(f'Max of {n} row: {max(a[n])}, Min of {n} row: {min(a[n])}')\n",
    "\n",
    "print('Sum of a[{n}]: {sum[(a)]}')\n",
    "    \n",
    "\n",
    "\n"
   ]
  },
  {
   "cell_type": "code",
   "execution_count": 25,
   "metadata": {},
   "outputs": [
    {
     "name": "stdout",
     "output_type": "stream",
     "text": [
      "[1, 2, 3] <class 'list'>\n",
      "[1 2 3] <class 'numpy.ndarray'>\n"
     ]
    }
   ],
   "source": [
    "import numpy as np\n",
    "# create array from list \n",
    "a = [1,2,3]\n",
    "b = np.array(a)\n",
    "print(a,type(a))\n",
    "print(b,type(b))"
   ]
  },
  {
   "cell_type": "code",
   "execution_count": 29,
   "metadata": {},
   "outputs": [
    {
     "name": "stdout",
     "output_type": "stream",
     "text": [
      "[0 1 2 3 4 5 6 7 8 9]\n",
      "[1 3 5 7 9]\n",
      "[0.  0.1 0.2 0.3 0.4 0.5 0.6 0.7 0.8 0.9]\n"
     ]
    }
   ],
   "source": [
    "#create array from arange function ( similar range function)\n",
    "a = np.arange(10)\n",
    "print(a)\n",
    "a = np.arange(1, 10, 2)\n",
    "print(a)\n",
    "a = np.arange(0, 1, 0.1)\n",
    "print(a)"
   ]
  },
  {
   "cell_type": "code",
   "execution_count": 32,
   "metadata": {},
   "outputs": [
    {
     "name": "stdout",
     "output_type": "stream",
     "text": [
      "[0. 1. 2. 3. 4. 5. 6. 7. 8. 9.]\n"
     ]
    }
   ],
   "source": [
    "#create array from linspace(start, and, n(so luong cacs item duoc sinh ra)) function\n",
    "a = np.linspace(0,9,10)\n",
    "print(a)\n"
   ]
  },
  {
   "cell_type": "code",
   "execution_count": 33,
   "metadata": {},
   "outputs": [
    {
     "name": "stdout",
     "output_type": "stream",
     "text": [
      "[   1    2    4    8   16   32   64  128  256  512 1024]\n"
     ]
    }
   ],
   "source": [
    "#create array from longspace (start, end, a) function\n",
    "a = np.logspace(0, 10, 11, base=2, dtype=int)\n",
    "print(a)"
   ]
  },
  {
   "cell_type": "code",
   "execution_count": 45,
   "metadata": {},
   "outputs": [
    {
     "ename": "SyntaxError",
     "evalue": "invalid syntax. Perhaps you forgot a comma? (1051497775.py, line 10)",
     "output_type": "error",
     "traceback": [
      "\u001b[1;36m  Cell \u001b[1;32mIn [45], line 10\u001b[1;36m\u001b[0m\n\u001b[1;33m    a = np.logspace(1, 10 base=3, dtype=int)\u001b[0m\n\u001b[1;37m                       ^\u001b[0m\n\u001b[1;31mSyntaxError\u001b[0m\u001b[1;31m:\u001b[0m invalid syntax. Perhaps you forgot a comma?\n"
     ]
    }
   ],
   "source": [
    "#create array from 50 - 100, step 5\n",
    "a = np.arange(50, 101, 5)\n",
    "print(a)\n",
    "\n",
    "#create 10 number from 2 to 5 \n",
    "a = np.linspace(2,5,10)\n",
    "print(a)\n",
    "\n",
    "#create these numbers: 3,9,27,81, ...59049\n",
    "a = np.logspace(1, 10,10 base=3, dtype=int)\n",
    "print(a)"
   ]
  },
  {
   "cell_type": "code",
   "execution_count": 48,
   "metadata": {},
   "outputs": [
    {
     "name": "stdout",
     "output_type": "stream",
     "text": [
      "[0. 0. 0. 0. 0. 0. 0. 0. 0. 0.]\n",
      "[[1. 1. 1.]\n",
      " [1. 1. 1.]\n",
      " [1. 1. 1.]]\n"
     ]
    }
   ],
   "source": [
    "#create array of zeros, ones\n",
    "zeros = np.zeros(10)\n",
    "print(zeros)\n",
    "ones = np.ones((3,3))\n",
    "print(ones)"
   ]
  },
  {
   "cell_type": "code",
   "execution_count": 50,
   "metadata": {},
   "outputs": [
    {
     "name": "stdout",
     "output_type": "stream",
     "text": [
      "[68 89 99 53 95]\n",
      "[ 78  99 109  63 105]\n",
      "[58 79 89 43 85]\n",
      "[680 890 990 530 950]\n",
      "[6.8 8.9 9.9 5.3 9.5]\n",
      "[4624 7921 9801 2809 9025]\n",
      "[8 9 9 3 5]\n"
     ]
    }
   ],
   "source": [
    "#array operations +, - ,*, /, **, % with number\n",
    "a= np.random.randint(10, 100, 5)\n",
    "print(a)\n",
    "print(a + 10)\n",
    "print(a - 10)\n",
    "print(a * 10)\n",
    "print(a / 10)\n",
    "print(a ** 2)\n",
    "print(a % 10)"
   ]
  },
  {
   "cell_type": "code",
   "execution_count": 51,
   "metadata": {},
   "outputs": [
    {
     "name": "stdout",
     "output_type": "stream",
     "text": [
      "[5 7 9]\n",
      "[-3 -3 -3]\n",
      "[ 4 10 18]\n",
      "[0.25 0.4  0.5 ]\n",
      "[  1  32 729]\n",
      "[1 2 3]\n",
      "[0 0 0]\n"
     ]
    }
   ],
   "source": [
    "a = np.array([1,2,3])\n",
    "b = np.array([4,5,6])\n",
    "print(a + b)\n",
    "print(a - b)\n",
    "print(a * b)\n",
    "print(a / b)\n",
    "print(a ** b)\n",
    "print(a % b)\n",
    "print(a // b)\n"
   ]
  },
  {
   "cell_type": "code",
   "execution_count": 52,
   "metadata": {},
   "outputs": [
    {
     "name": "stdout",
     "output_type": "stream",
     "text": [
      "[55 53 61 16 64 29 53 42 37 61]\n",
      "[False False False  True  True False False  True False False]\n",
      "[16 64 42]\n"
     ]
    }
   ],
   "source": [
    "#Boolean indexing\n",
    "a = np.random.randint(10, 100, 10)\n",
    "b = a % 2 == 0\n",
    "print(a)\n",
    "print(b)\n",
    "print(a[b])\n"
   ]
  },
  {
   "cell_type": "code",
   "execution_count": null,
   "metadata": {},
   "outputs": [],
   "source": [
    "#Find numbers that has the last digit is 3\n",
    "print(a[a%10]== 3)\n",
    "\n",
    "#Find number that has the first digit is 5\n",
    "print(a[a // 10]== 5)\n",
    "\n",
    "#sum of digit >10\n",
    "print(a[a] // (10 + a % 10) > 10)"
   ]
  },
  {
   "cell_type": "code",
   "execution_count": 64,
   "metadata": {},
   "outputs": [
    {
     "name": "stdout",
     "output_type": "stream",
     "text": [
      "[[32 72 78 65 87]\n",
      " [67 78 39 47 92]\n",
      " [88 92 34 12 18]\n",
      " [77 92 26 72 28]\n",
      " [32 80 99 75 10]]\n",
      "12\n",
      "12\n"
     ]
    }
   ],
   "source": [
    "a = np.random.randint( 10, 100, (5,5))\n",
    "print(a)\n",
    "#indexing list-style\n",
    "print(a[2][3])\n",
    "#indexing array-style\n",
    "print(a[2,3])"
   ]
  },
  {
   "cell_type": "code",
   "execution_count": 65,
   "metadata": {},
   "outputs": [
    {
     "name": "stdout",
     "output_type": "stream",
     "text": [
      "[[67 78 39 47 92]\n",
      " [88 92 34 12 18]\n",
      " [77 92 26 72 28]]\n"
     ]
    }
   ],
   "source": [
    "#slide rows:\n",
    "print(a[1:4])"
   ]
  },
  {
   "cell_type": "code",
   "execution_count": 66,
   "metadata": {},
   "outputs": [
    {
     "name": "stdout",
     "output_type": "stream",
     "text": [
      "[[72 78]\n",
      " [78 39]\n",
      " [92 34]\n",
      " [92 26]\n",
      " [80 99]]\n"
     ]
    }
   ],
   "source": [
    "#Slide columns:\n",
    "print(a[:, 1:3])"
   ]
  },
  {
   "cell_type": "code",
   "execution_count": 67,
   "metadata": {},
   "outputs": [
    {
     "name": "stdout",
     "output_type": "stream",
     "text": [
      "[[39 47]\n",
      " [34 12]\n",
      " [26 72]]\n"
     ]
    }
   ],
   "source": [
    "#Slice both rows and columns\n",
    "print(a[1:4, 2:4])"
   ]
  },
  {
   "cell_type": "code",
   "execution_count": 69,
   "metadata": {},
   "outputs": [
    {
     "name": "stdout",
     "output_type": "stream",
     "text": [
      "5 (5, 5)\n"
     ]
    }
   ],
   "source": [
    "print(len(a), np.shape(a))\n"
   ]
  },
  {
   "cell_type": "code",
   "execution_count": 71,
   "metadata": {},
   "outputs": [
    {
     "name": "stdout",
     "output_type": "stream",
     "text": [
      "[32 72 78 65 87] [[32 72 78 65 87]]\n",
      "(5,) (1, 5)\n",
      "[[32]\n",
      " [72]\n",
      " [78]\n",
      " [65]\n",
      " [87]] (5, 1)\n"
     ]
    }
   ],
   "source": [
    "b = a[0]\n",
    "c = a[0:1, :]\n",
    "print(b,c)\n",
    "print(np.shape(b), np.shape(c))\n",
    "\n",
    "#transpose\n",
    "d =c.T\n",
    "print(d, np.shape(d))"
   ]
  }
 ],
 "metadata": {
  "kernelspec": {
   "display_name": "Python 3.10.8 64-bit",
   "language": "python",
   "name": "python3"
  },
  "language_info": {
   "codemirror_mode": {
    "name": "ipython",
    "version": 3
   },
   "file_extension": ".py",
   "mimetype": "text/x-python",
   "name": "python",
   "nbconvert_exporter": "python",
   "pygments_lexer": "ipython3",
   "version": "3.10.8"
  },
  "orig_nbformat": 4,
  "vscode": {
   "interpreter": {
    "hash": "26de051ba29f2982a8de78e945f0abaf191376122a1563185a90213a26c5da77"
   }
  }
 },
 "nbformat": 4,
 "nbformat_minor": 2
}
